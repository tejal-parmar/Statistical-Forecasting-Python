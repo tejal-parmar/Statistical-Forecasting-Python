{
  "cells": [
    {
      "cell_type": "markdown",
      "id": "f1f3ae83",
      "metadata": {
        "id": "f1f3ae83"
      },
      "source": [
        "### Statistical Forecasting"
      ]
    },
    {
      "cell_type": "code",
      "execution_count": 3,
      "id": "98dcdf49",
      "metadata": {
        "id": "98dcdf49"
      },
      "outputs": [],
      "source": [
        "import pandas as pd\n",
        "import numpy as np\n",
        "from sklearn.metrics import mean_absolute_error, mean_squared_error"
      ]
    },
    {
      "cell_type": "code",
      "execution_count": 4,
      "id": "45d51dfc",
      "metadata": {
        "scrolled": true,
        "colab": {
          "base_uri": "https://localhost:8080/",
          "height": 206
        },
        "id": "45d51dfc",
        "outputId": "3f7ca42a-7254-4e33-dc5e-0084e8fcc70a"
      },
      "outputs": [
        {
          "output_type": "execute_result",
          "data": {
            "text/plain": [
              "     Time  Gas Demand (bcf)    Forecast\n",
              "0  Jan-10          2210.162         NaN\n",
              "1  Feb-10          2047.815         NaN\n",
              "2  Mar-10          2276.546         NaN\n",
              "3  Apr-10          2190.270         NaN\n",
              "4  May-10          2236.507  2181.19825"
            ],
            "text/html": [
              "\n",
              "\n",
              "  <div id=\"df-1cd4ca6e-6bbd-4755-8ea6-79ec54e6b9ff\">\n",
              "    <div class=\"colab-df-container\">\n",
              "      <div>\n",
              "<style scoped>\n",
              "    .dataframe tbody tr th:only-of-type {\n",
              "        vertical-align: middle;\n",
              "    }\n",
              "\n",
              "    .dataframe tbody tr th {\n",
              "        vertical-align: top;\n",
              "    }\n",
              "\n",
              "    .dataframe thead th {\n",
              "        text-align: right;\n",
              "    }\n",
              "</style>\n",
              "<table border=\"1\" class=\"dataframe\">\n",
              "  <thead>\n",
              "    <tr style=\"text-align: right;\">\n",
              "      <th></th>\n",
              "      <th>Time</th>\n",
              "      <th>Gas Demand (bcf)</th>\n",
              "      <th>Forecast</th>\n",
              "    </tr>\n",
              "  </thead>\n",
              "  <tbody>\n",
              "    <tr>\n",
              "      <th>0</th>\n",
              "      <td>Jan-10</td>\n",
              "      <td>2210.162</td>\n",
              "      <td>NaN</td>\n",
              "    </tr>\n",
              "    <tr>\n",
              "      <th>1</th>\n",
              "      <td>Feb-10</td>\n",
              "      <td>2047.815</td>\n",
              "      <td>NaN</td>\n",
              "    </tr>\n",
              "    <tr>\n",
              "      <th>2</th>\n",
              "      <td>Mar-10</td>\n",
              "      <td>2276.546</td>\n",
              "      <td>NaN</td>\n",
              "    </tr>\n",
              "    <tr>\n",
              "      <th>3</th>\n",
              "      <td>Apr-10</td>\n",
              "      <td>2190.270</td>\n",
              "      <td>NaN</td>\n",
              "    </tr>\n",
              "    <tr>\n",
              "      <th>4</th>\n",
              "      <td>May-10</td>\n",
              "      <td>2236.507</td>\n",
              "      <td>2181.19825</td>\n",
              "    </tr>\n",
              "  </tbody>\n",
              "</table>\n",
              "</div>\n",
              "      <button class=\"colab-df-convert\" onclick=\"convertToInteractive('df-1cd4ca6e-6bbd-4755-8ea6-79ec54e6b9ff')\"\n",
              "              title=\"Convert this dataframe to an interactive table.\"\n",
              "              style=\"display:none;\">\n",
              "\n",
              "  <svg xmlns=\"http://www.w3.org/2000/svg\" height=\"24px\"viewBox=\"0 0 24 24\"\n",
              "       width=\"24px\">\n",
              "    <path d=\"M0 0h24v24H0V0z\" fill=\"none\"/>\n",
              "    <path d=\"M18.56 5.44l.94 2.06.94-2.06 2.06-.94-2.06-.94-.94-2.06-.94 2.06-2.06.94zm-11 1L8.5 8.5l.94-2.06 2.06-.94-2.06-.94L8.5 2.5l-.94 2.06-2.06.94zm10 10l.94 2.06.94-2.06 2.06-.94-2.06-.94-.94-2.06-.94 2.06-2.06.94z\"/><path d=\"M17.41 7.96l-1.37-1.37c-.4-.4-.92-.59-1.43-.59-.52 0-1.04.2-1.43.59L10.3 9.45l-7.72 7.72c-.78.78-.78 2.05 0 2.83L4 21.41c.39.39.9.59 1.41.59.51 0 1.02-.2 1.41-.59l7.78-7.78 2.81-2.81c.8-.78.8-2.07 0-2.86zM5.41 20L4 18.59l7.72-7.72 1.47 1.35L5.41 20z\"/>\n",
              "  </svg>\n",
              "      </button>\n",
              "\n",
              "\n",
              "\n",
              "    <div id=\"df-11ae73df-e219-4ed3-ae83-469378147cbf\">\n",
              "      <button class=\"colab-df-quickchart\" onclick=\"quickchart('df-11ae73df-e219-4ed3-ae83-469378147cbf')\"\n",
              "              title=\"Suggest charts.\"\n",
              "              style=\"display:none;\">\n",
              "\n",
              "<svg xmlns=\"http://www.w3.org/2000/svg\" height=\"24px\"viewBox=\"0 0 24 24\"\n",
              "     width=\"24px\">\n",
              "    <g>\n",
              "        <path d=\"M19 3H5c-1.1 0-2 .9-2 2v14c0 1.1.9 2 2 2h14c1.1 0 2-.9 2-2V5c0-1.1-.9-2-2-2zM9 17H7v-7h2v7zm4 0h-2V7h2v10zm4 0h-2v-4h2v4z\"/>\n",
              "    </g>\n",
              "</svg>\n",
              "      </button>\n",
              "    </div>\n",
              "\n",
              "<style>\n",
              "  .colab-df-quickchart {\n",
              "    background-color: #E8F0FE;\n",
              "    border: none;\n",
              "    border-radius: 50%;\n",
              "    cursor: pointer;\n",
              "    display: none;\n",
              "    fill: #1967D2;\n",
              "    height: 32px;\n",
              "    padding: 0 0 0 0;\n",
              "    width: 32px;\n",
              "  }\n",
              "\n",
              "  .colab-df-quickchart:hover {\n",
              "    background-color: #E2EBFA;\n",
              "    box-shadow: 0px 1px 2px rgba(60, 64, 67, 0.3), 0px 1px 3px 1px rgba(60, 64, 67, 0.15);\n",
              "    fill: #174EA6;\n",
              "  }\n",
              "\n",
              "  [theme=dark] .colab-df-quickchart {\n",
              "    background-color: #3B4455;\n",
              "    fill: #D2E3FC;\n",
              "  }\n",
              "\n",
              "  [theme=dark] .colab-df-quickchart:hover {\n",
              "    background-color: #434B5C;\n",
              "    box-shadow: 0px 1px 3px 1px rgba(0, 0, 0, 0.15);\n",
              "    filter: drop-shadow(0px 1px 2px rgba(0, 0, 0, 0.3));\n",
              "    fill: #FFFFFF;\n",
              "  }\n",
              "</style>\n",
              "\n",
              "    <script>\n",
              "      async function quickchart(key) {\n",
              "        const containerElement = document.querySelector('#' + key);\n",
              "        const charts = await google.colab.kernel.invokeFunction(\n",
              "            'suggestCharts', [key], {});\n",
              "      }\n",
              "    </script>\n",
              "\n",
              "      <script>\n",
              "\n",
              "function displayQuickchartButton(domScope) {\n",
              "  let quickchartButtonEl =\n",
              "    domScope.querySelector('#df-11ae73df-e219-4ed3-ae83-469378147cbf button.colab-df-quickchart');\n",
              "  quickchartButtonEl.style.display =\n",
              "    google.colab.kernel.accessAllowed ? 'block' : 'none';\n",
              "}\n",
              "\n",
              "        displayQuickchartButton(document);\n",
              "      </script>\n",
              "      <style>\n",
              "    .colab-df-container {\n",
              "      display:flex;\n",
              "      flex-wrap:wrap;\n",
              "      gap: 12px;\n",
              "    }\n",
              "\n",
              "    .colab-df-convert {\n",
              "      background-color: #E8F0FE;\n",
              "      border: none;\n",
              "      border-radius: 50%;\n",
              "      cursor: pointer;\n",
              "      display: none;\n",
              "      fill: #1967D2;\n",
              "      height: 32px;\n",
              "      padding: 0 0 0 0;\n",
              "      width: 32px;\n",
              "    }\n",
              "\n",
              "    .colab-df-convert:hover {\n",
              "      background-color: #E2EBFA;\n",
              "      box-shadow: 0px 1px 2px rgba(60, 64, 67, 0.3), 0px 1px 3px 1px rgba(60, 64, 67, 0.15);\n",
              "      fill: #174EA6;\n",
              "    }\n",
              "\n",
              "    [theme=dark] .colab-df-convert {\n",
              "      background-color: #3B4455;\n",
              "      fill: #D2E3FC;\n",
              "    }\n",
              "\n",
              "    [theme=dark] .colab-df-convert:hover {\n",
              "      background-color: #434B5C;\n",
              "      box-shadow: 0px 1px 3px 1px rgba(0, 0, 0, 0.15);\n",
              "      filter: drop-shadow(0px 1px 2px rgba(0, 0, 0, 0.3));\n",
              "      fill: #FFFFFF;\n",
              "    }\n",
              "  </style>\n",
              "\n",
              "      <script>\n",
              "        const buttonEl =\n",
              "          document.querySelector('#df-1cd4ca6e-6bbd-4755-8ea6-79ec54e6b9ff button.colab-df-convert');\n",
              "        buttonEl.style.display =\n",
              "          google.colab.kernel.accessAllowed ? 'block' : 'none';\n",
              "\n",
              "        async function convertToInteractive(key) {\n",
              "          const element = document.querySelector('#df-1cd4ca6e-6bbd-4755-8ea6-79ec54e6b9ff');\n",
              "          const dataTable =\n",
              "            await google.colab.kernel.invokeFunction('convertToInteractive',\n",
              "                                                     [key], {});\n",
              "          if (!dataTable) return;\n",
              "\n",
              "          const docLinkHtml = 'Like what you see? Visit the ' +\n",
              "            '<a target=\"_blank\" href=https://colab.research.google.com/notebooks/data_table.ipynb>data table notebook</a>'\n",
              "            + ' to learn more about interactive tables.';\n",
              "          element.innerHTML = '';\n",
              "          dataTable['output_type'] = 'display_data';\n",
              "          await google.colab.output.renderOutput(dataTable, element);\n",
              "          const docLink = document.createElement('div');\n",
              "          docLink.innerHTML = docLinkHtml;\n",
              "          element.appendChild(docLink);\n",
              "        }\n",
              "      </script>\n",
              "    </div>\n",
              "  </div>\n"
            ]
          },
          "metadata": {},
          "execution_count": 4
        }
      ],
      "source": [
        "data = pd.read_csv(\"NaturalGas.csv\")\n",
        "data.head()"
      ]
    },
    {
      "cell_type": "code",
      "execution_count": 5,
      "id": "618d3699",
      "metadata": {
        "scrolled": true,
        "colab": {
          "base_uri": "https://localhost:8080/"
        },
        "id": "618d3699",
        "outputId": "688cc049-1054-4f62-c223-009a65ece0ca"
      },
      "outputs": [
        {
          "output_type": "stream",
          "name": "stdout",
          "text": [
            "<class 'pandas.core.frame.DataFrame'>\n",
            "RangeIndex: 156 entries, 0 to 155\n",
            "Data columns (total 3 columns):\n",
            " #   Column            Non-Null Count  Dtype  \n",
            "---  ------            --------------  -----  \n",
            " 0   Time              156 non-null    object \n",
            " 1   Gas Demand (bcf)  151 non-null    float64\n",
            " 2   Forecast          147 non-null    float64\n",
            "dtypes: float64(2), object(1)\n",
            "memory usage: 3.8+ KB\n"
          ]
        }
      ],
      "source": [
        "data.info()"
      ]
    },
    {
      "cell_type": "markdown",
      "id": "2ec99279",
      "metadata": {
        "id": "2ec99279"
      },
      "source": [
        "### Defining KPIs"
      ]
    },
    {
      "cell_type": "code",
      "execution_count": 6,
      "id": "509f95a8",
      "metadata": {
        "id": "509f95a8"
      },
      "outputs": [],
      "source": [
        "def kpi(df):\n",
        "    dem_ave = df.loc[df['Error'].notnull(),'Demand'].mean()\n",
        "    bias_abs = df['Error'].mean()\n",
        "    bias_rel = bias_abs / dem_ave\n",
        "    print('Bias: {:0.2f}, {:.2%}'.format(bias_abs,bias_rel))\n",
        "\n",
        "    MAE_abs = df['Error'].abs().mean()\n",
        "    MAE_rel = MAE_abs / dem_ave\n",
        "    print('MAE: {:0.2f}, {:.2%}'.format(MAE_abs,MAE_rel))\n",
        "\n",
        "    RMSE_abs = np.sqrt((df['Error']**2).mean())\n",
        "    RMSE_rel = RMSE_abs / dem_ave\n",
        "    print('RMSE: {:0.2f}, {:.2%}'.format(RMSE_abs,RMSE_rel))"
      ]
    },
    {
      "cell_type": "markdown",
      "id": "512678ec",
      "metadata": {
        "id": "512678ec"
      },
      "source": [
        "### 1. Moving Average"
      ]
    },
    {
      "cell_type": "code",
      "execution_count": 7,
      "id": "2a6d0e27",
      "metadata": {
        "id": "2a6d0e27"
      },
      "outputs": [],
      "source": [
        "def moving_average(d, extra_periods = 6, n = 3):\n",
        "    cols = len(d)\n",
        "    demand = np.append(d,[np.nan]*extra_periods)\n",
        "    forecast = np.full(cols+extra_periods, np.nan)\n",
        "    for t in range(n, cols):\n",
        "        forecast[t] = np.mean(demand[t-n:t])\n",
        "\n",
        "    forecast[t+1:] = np.mean(d[t-n+1:t+1])\n",
        "    df = pd.DataFrame.from_dict({'Demand':demand,'Forecast':forecast,'Error':forecast-demand})\n",
        "    return df"
      ]
    },
    {
      "cell_type": "code",
      "execution_count": 8,
      "id": "69c159ae",
      "metadata": {
        "colab": {
          "base_uri": "https://localhost:8080/"
        },
        "id": "69c159ae",
        "outputId": "2c7af8a5-7ecd-4622-8376-e692ecf9cec0"
      },
      "outputs": [
        {
          "output_type": "stream",
          "name": "stdout",
          "text": [
            "Bias: -24.39, -0.85%\n",
            "MAE: 85.60, 2.99%\n",
            "RMSE: 114.10, 3.98%\n"
          ]
        },
        {
          "output_type": "stream",
          "name": "stderr",
          "text": [
            "/usr/local/lib/python3.10/dist-packages/numpy/core/fromnumeric.py:3472: FutureWarning: In a future version, DataFrame.mean(axis=None) will return a scalar mean over the entire DataFrame. To retain the old behavior, use 'frame.mean(axis=0)' or just 'frame.mean()'\n",
            "  return mean(axis=axis, dtype=dtype, out=out, **kwargs)\n"
          ]
        }
      ],
      "source": [
        "d = data.iloc[:,[1]]\n",
        "df = moving_average(d, n = 4)\n",
        "df.to_csv(\"MA_forecast.csv\")\n",
        "kpi(df)"
      ]
    },
    {
      "cell_type": "markdown",
      "id": "2ca204b3",
      "metadata": {
        "id": "2ca204b3"
      },
      "source": [
        "### 2. Simple Exponential Smoothing"
      ]
    },
    {
      "cell_type": "code",
      "execution_count": 9,
      "id": "4bc5b7e9",
      "metadata": {
        "id": "4bc5b7e9"
      },
      "outputs": [],
      "source": [
        "def simple_exp_smooth(d, extra_periods=1, alpha=0.3):\n",
        "    cols = len(d)\n",
        "    d = np.append(d,[np.nan]*extra_periods)\n",
        "    f = np.full(cols+extra_periods,np.nan)\n",
        "    f[1] = d[0]\n",
        "    for t in range(2,cols+1):\n",
        "        f[t] = alpha*d[t-1]+(1-alpha)*f[t-1]\n",
        "    for t in range(cols+1,cols+extra_periods):\n",
        "        f[t] = f[t-1]\n",
        "    df = pd.DataFrame.from_dict({'Demand':d,'Forecast':f,'Error':d-f})\n",
        "    return df"
      ]
    },
    {
      "cell_type": "code",
      "execution_count": 10,
      "id": "b84d7831",
      "metadata": {
        "colab": {
          "base_uri": "https://localhost:8080/"
        },
        "id": "b84d7831",
        "outputId": "a9759dda-b54f-4f74-a592-40e6165186e6"
      },
      "outputs": [
        {
          "output_type": "stream",
          "name": "stdout",
          "text": [
            "Bias: 30.77, 1.08%\n",
            "MAE: 91.24, 3.20%\n",
            "RMSE: 116.22, 4.08%\n"
          ]
        }
      ],
      "source": [
        "df1 = simple_exp_smooth(d)\n",
        "df1.to_csv(\"SES_forecast.csv\")\n",
        "kpi(df1)"
      ]
    },
    {
      "cell_type": "markdown",
      "id": "a6c352b1",
      "metadata": {
        "id": "a6c352b1"
      },
      "source": [
        "### 3. Double Exponential Smoothing"
      ]
    },
    {
      "cell_type": "code",
      "execution_count": 11,
      "id": "d74d0b6b",
      "metadata": {
        "id": "d74d0b6b"
      },
      "outputs": [],
      "source": [
        "def double_exp_smooth(d, extra_periods=1, alpha=0.3, beta=0.3):\n",
        "    cols = len(d)\n",
        "    d = np.append(d,[np.nan]*extra_periods)\n",
        "    f = np.full(cols+extra_periods,np.nan)\n",
        "    at = np.full(cols+extra_periods,np.nan)\n",
        "    bt = np.full(cols+extra_periods,np.nan)\n",
        "    at[0] = d[0]\n",
        "    bt[0] = d[1] - d[0]\n",
        "    f[1] = at[0] + bt[0]\n",
        "    for t in range(1,cols+1):\n",
        "        at[t] = alpha*d[t]+(1-alpha)*(at[t-1]+bt[t-1])\n",
        "        bt[t] = beta*(at[t]-at[t-1])+(1-beta)*bt[t-1]\n",
        "        f[t] = at[t-1]+bt[t-1]\n",
        "    for t in range(cols+1,cols+extra_periods):\n",
        "        f[t] = f[t-1]\n",
        "    df = pd.DataFrame.from_dict({'Demand':d,'at':at,'bt':bt,'Forecast':f,'Error':d-f})\n",
        "    return df"
      ]
    },
    {
      "cell_type": "code",
      "execution_count": 12,
      "id": "d11ebab6",
      "metadata": {
        "colab": {
          "base_uri": "https://localhost:8080/"
        },
        "id": "d11ebab6",
        "outputId": "f34181e6-03e3-40b7-8986-e15d72b24fb2"
      },
      "outputs": [
        {
          "output_type": "stream",
          "name": "stdout",
          "text": [
            "Bias: 13.07, 0.46%\n",
            "MAE: 95.04, 3.33%\n",
            "RMSE: 131.88, 4.63%\n"
          ]
        }
      ],
      "source": [
        "df2 = double_exp_smooth(d)\n",
        "df2.to_csv(\"DES_forecast.csv\")\n",
        "kpi(df2)"
      ]
    }
  ],
  "metadata": {
    "kernelspec": {
      "display_name": "Python 3 (ipykernel)",
      "language": "python",
      "name": "python3"
    },
    "language_info": {
      "codemirror_mode": {
        "name": "ipython",
        "version": 3
      },
      "file_extension": ".py",
      "mimetype": "text/x-python",
      "name": "python",
      "nbconvert_exporter": "python",
      "pygments_lexer": "ipython3",
      "version": "3.9.12"
    },
    "colab": {
      "provenance": []
    }
  },
  "nbformat": 4,
  "nbformat_minor": 5
}